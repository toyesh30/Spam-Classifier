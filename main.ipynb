{
 "cells": [
  {
   "cell_type": "markdown",
   "metadata": {
    "id": "livuc8OY0kSc"
   },
   "source": [
    "# Imports"
   ]
  },
  {
   "cell_type": "code",
   "execution_count": 1,
   "metadata": {
    "colab": {
     "base_uri": "https://localhost:8080/"
    },
    "id": "ebVCBqIOGXfG",
    "outputId": "595931c1-9990-493d-f5e4-6de7fb9876d8"
   },
   "outputs": [
    {
     "name": "stderr",
     "output_type": "stream",
     "text": [
      "[nltk_data] Downloading package stopwords to C:\\Users\\Toyesh\n",
      "[nltk_data]     Saini\\AppData\\Roaming\\nltk_data...\n",
      "[nltk_data]   Package stopwords is already up-to-date!\n",
      "[nltk_data] Downloading package punkt to C:\\Users\\Toyesh\n",
      "[nltk_data]     Saini\\AppData\\Roaming\\nltk_data...\n",
      "[nltk_data]   Package punkt is already up-to-date!\n"
     ]
    },
    {
     "data": {
      "text/plain": [
       "True"
      ]
     },
     "execution_count": 1,
     "metadata": {},
     "output_type": "execute_result"
    }
   ],
   "source": [
    "import numpy as np\n",
    "import pandas as pd\n",
    "from  os import walk\n",
    "from os.path import join\n",
    "import multiprocessing as multiP\n",
    "import psutil\n",
    "import functools\n",
    "from bs4 import BeautifulSoup\n",
    "import time\n",
    "import matplotlib.pyplot as plt\n",
    "import nltk\n",
    "from nltk.stem import PorterStemmer\n",
    "from nltk.corpus import stopwords\n",
    "from nltk.tokenize import word_tokenize\n",
    "from sklearn.feature_extraction.text import CountVectorizer\n",
    "from sklearn.model_selection import train_test_split\n",
    "from sklearn.pipeline import Pipeline\n",
    "from sklearn.naive_bayes import MultinomialNB\n",
    "from sklearn.model_selection import GridSearchCV\n",
    "from sklearn.metrics import f1_score, precision_score, recall_score\n",
    "import warnings\n",
    "warnings.filterwarnings('ignore')\n",
    "nltk.download('stopwords')\n",
    "nltk.download('punkt')"
   ]
  },
  {
   "cell_type": "markdown",
   "metadata": {
    "id": "siVplQOV0_QK"
   },
   "source": [
    "# File Paths"
   ]
  },
  {
   "cell_type": "code",
   "execution_count": 2,
   "metadata": {
    "id": "K8gJfjYF7qlP"
   },
   "outputs": [],
   "source": [
    "SPAM_1_PATH = '/spam_assassin_corpus/spam_1'\n",
    "SPAM_2_PATH = '/spam_assassin_corpus/spam_2'\n",
    "EASY_NONSPAM_1_PATH = '/spam_assassin_corpus/easy_ham_1'\n",
    "EASY_NONSPAM_2_PATH = '/spam_assassin_corpus/easy_ham_2'\n",
    "\n",
    "SPAM_CAT =1 \n",
    "HAM_CAT =0"
   ]
  },
  {
   "cell_type": "markdown",
   "metadata": {
    "id": "a3p6-xPm1CDr"
   },
   "source": [
    "# Extracting mail bodies to DataFrame"
   ]
  },
  {
   "cell_type": "code",
   "execution_count": 3,
   "metadata": {
    "id": "KZJ-N_y174Mc"
   },
   "outputs": [],
   "source": [
    "def email_body_generator(path):\n",
    "    for root, dirnames, filenames in walk(path):\n",
    "        for file_name in filenames:\n",
    "            \n",
    "            filepath = join(root, file_name)\n",
    "            stream =open(filepath,encoding='latin-1')\n",
    "\n",
    "\n",
    "            is_body=False\n",
    "            lines=[]\n",
    "\n",
    "            for line in stream:\n",
    "\n",
    "                if is_body:\n",
    "                    lines.append(line)\n",
    "                elif line == '\\n':\n",
    "                    is_body=True\n",
    "\n",
    "            stream.close\n",
    "\n",
    "            email_body='\\n'.join(lines)\n",
    "            yield file_name, email_body\n",
    "def df_from_directory(path, classification):\n",
    "    rows = []\n",
    "    row_names= []\n",
    "    for file_name , email_body in email_body_generator(path):\n",
    "        rows.append({'MESSAGE':email_body,'CATEGORY': classification})\n",
    "        row_names.append(file_name)\n",
    "        \n",
    "    return pd.DataFrame(rows, index = row_names)"
   ]
  },
  {
   "cell_type": "code",
   "execution_count": null,
   "metadata": {
    "colab": {
     "base_uri": "https://localhost:8080/"
    },
    "id": "PUlmL6RjAk01",
    "outputId": "8a36343e-ed73-439f-8d9b-d7159e0b3fef"
   },
   "outputs": [],
   "source": [
    "workers_pool = multiP.Pool(psutil.cpu_count())\n",
    "spam_mails_1, spam_mails_2 = workers_pool.map(functools.partial(df_from_directory, classification = SPAM_CAT), [SPAM_1_PATH, SPAM_2_PATH]) \n",
    "ham_mails_1, ham_mails_2 = workers_pool.map(functools.partial(df_from_directory, classification = HAM_CAT), [EASY_NONSPAM_1_PATH, EASY_NONSPAM_2_PATH]) \n",
    "workers_pool.close()\n",
    "workers_pool.join()\n",
    "workers_pool.terminate()"
   ]
  },
  {
   "cell_type": "code",
   "execution_count": 8,
   "metadata": {
    "colab": {
     "base_uri": "https://localhost:8080/"
    },
    "id": "gCuvayh_GnaR",
    "outputId": "2a78c04e-3986-4882-ef09-e872a0d5c876"
   },
   "outputs": [
    {
     "name": "stdout",
     "output_type": "stream",
     "text": [
      "1898\n",
      "3901\n"
     ]
    }
   ],
   "source": [
    "spam_mails = pd.concat([spam_mails_1, spam_mails_2])\n",
    "ham_mails = pd.concat([ham_mails_1, ham_mails_2])\n",
    "print(len(spam_mails))\n",
    "print(len(ham_mails))"
   ]
  },
  {
   "cell_type": "code",
   "execution_count": 45,
   "metadata": {
    "colab": {
     "base_uri": "https://localhost:8080/",
     "height": 374
    },
    "id": "jQP7ukGKKSc0",
    "outputId": "6f395c21-7399-44a1-e6a8-26b78557ab5f"
   },
   "outputs": [
    {
     "name": "stdout",
     "output_type": "stream",
     "text": [
      "(5799, 2)\n"
     ]
    },
    {
     "data": {
      "text/html": [
       "<div>\n",
       "<style scoped>\n",
       "    .dataframe tbody tr th:only-of-type {\n",
       "        vertical-align: middle;\n",
       "    }\n",
       "\n",
       "    .dataframe tbody tr th {\n",
       "        vertical-align: top;\n",
       "    }\n",
       "\n",
       "    .dataframe thead th {\n",
       "        text-align: right;\n",
       "    }\n",
       "</style>\n",
       "<table border=\"1\" class=\"dataframe\">\n",
       "  <thead>\n",
       "    <tr style=\"text-align: right;\">\n",
       "      <th></th>\n",
       "      <th>MESSAGE</th>\n",
       "      <th>CATEGORY</th>\n",
       "    </tr>\n",
       "  </thead>\n",
       "  <tbody>\n",
       "    <tr>\n",
       "      <th>00247.4f7c67c9792706fa90fe218d4b092b7a</th>\n",
       "      <td>MR MARTIN FRANCIS\\n\\nABIDJAN COTE DIVOIRE\\n\\n...</td>\n",
       "      <td>1</td>\n",
       "    </tr>\n",
       "    <tr>\n",
       "      <th>00445.94d3ccfafc541255ff46625091d333e4</th>\n",
       "      <td>Hi -\\n\\n\\n\\n( http://club.4tfox.com )\\n\\n\\n\\nY...</td>\n",
       "      <td>1</td>\n",
       "    </tr>\n",
       "    <tr>\n",
       "      <th>00395.f9df5b3574ef5ba6143c08a1fa301886</th>\n",
       "      <td>&lt;html&gt;\\n\\n\\n\\n&lt;head&gt;\\n\\n&lt;title&gt;Home Page&lt;/titl...</td>\n",
       "      <td>1</td>\n",
       "    </tr>\n",
       "    <tr>\n",
       "      <th>00388.53eae0055e66fcb7194f9cca080fdefe</th>\n",
       "      <td>PROFESSIONAL, EFFECTIVE DEBT COLLECTION SERVIC...</td>\n",
       "      <td>1</td>\n",
       "    </tr>\n",
       "    <tr>\n",
       "      <th>00045.7282c2c4e009744f2f3450d370009235</th>\n",
       "      <td>1) Fight The Risk of Cancer!\\n\\nhttp://www.adc...</td>\n",
       "      <td>1</td>\n",
       "    </tr>\n",
       "    <tr>\n",
       "      <th>00244.5cac9708afd7f9f00e9bf64eeb127f0a</th>\n",
       "      <td>=3C!DOCTYPE HTML PUBLIC =22-=2F=2FW3C=2F=2FDTD...</td>\n",
       "      <td>1</td>\n",
       "    </tr>\n",
       "    <tr>\n",
       "      <th>00213.8c42a1c257aa30ff3b3ba668cca59408</th>\n",
       "      <td>&lt;p&gt;We thank you for just a moment of your tim...</td>\n",
       "      <td>1</td>\n",
       "    </tr>\n",
       "    <tr>\n",
       "      <th>00449.7d33f465cb813806296901ee541841d6</th>\n",
       "      <td>&lt;HTML&gt;\\n\\n&lt;TABLE id=AutoNumber2 style=\"BORDER-...</td>\n",
       "      <td>1</td>\n",
       "    </tr>\n",
       "    <tr>\n",
       "      <th>00039.889d785885f092c269741b11f2124dce</th>\n",
       "      <td>------=_NextPart_000_00X9_70A11C1D.E1232J43\\n\\...</td>\n",
       "      <td>1</td>\n",
       "    </tr>\n",
       "    <tr>\n",
       "      <th>00276.a6e447390e371ddba7cee092bb0ec98f</th>\n",
       "      <td>&lt;html&gt;\\n\\n\\n\\n&lt;head&gt;\\n\\n&lt;meta http-equiv=3D\"Co...</td>\n",
       "      <td>1</td>\n",
       "    </tr>\n",
       "  </tbody>\n",
       "</table>\n",
       "</div>"
      ],
      "text/plain": [
       "                                                                                  MESSAGE  CATEGORY\n",
       "00247.4f7c67c9792706fa90fe218d4b092b7a  MR MARTIN FRANCIS\\n\\nABIDJAN COTE DIVOIRE\\n\\n...         1\n",
       "00445.94d3ccfafc541255ff46625091d333e4  Hi -\\n\\n\\n\\n( http://club.4tfox.com )\\n\\n\\n\\nY...         1\n",
       "00395.f9df5b3574ef5ba6143c08a1fa301886  <html>\\n\\n\\n\\n<head>\\n\\n<title>Home Page</titl...         1\n",
       "00388.53eae0055e66fcb7194f9cca080fdefe  PROFESSIONAL, EFFECTIVE DEBT COLLECTION SERVIC...         1\n",
       "00045.7282c2c4e009744f2f3450d370009235  1) Fight The Risk of Cancer!\\n\\nhttp://www.adc...         1\n",
       "00244.5cac9708afd7f9f00e9bf64eeb127f0a  =3C!DOCTYPE HTML PUBLIC =22-=2F=2FW3C=2F=2FDTD...         1\n",
       "00213.8c42a1c257aa30ff3b3ba668cca59408   <p>We thank you for just a moment of your tim...         1\n",
       "00449.7d33f465cb813806296901ee541841d6  <HTML>\\n\\n<TABLE id=AutoNumber2 style=\"BORDER-...         1\n",
       "00039.889d785885f092c269741b11f2124dce  ------=_NextPart_000_00X9_70A11C1D.E1232J43\\n\\...         1\n",
       "00276.a6e447390e371ddba7cee092bb0ec98f  <html>\\n\\n\\n\\n<head>\\n\\n<meta http-equiv=3D\"Co...         1"
      ]
     },
     "execution_count": 45,
     "metadata": {
      "tags": []
     },
     "output_type": "execute_result"
    }
   ],
   "source": [
    "data = pd.concat([spam_mails, ham_mails])\n",
    "print(data.shape)\n",
    "data"
   ]
  },
  {
   "cell_type": "markdown",
   "metadata": {
    "id": "8mpSW9Rr-ve8"
   },
   "source": [
    "# Processing"
   ]
  },
  {
   "cell_type": "code",
   "execution_count": 48,
   "metadata": {
    "colab": {
     "base_uri": "https://localhost:8080/"
    },
    "id": "wz2hdGzGLD6u",
    "outputId": "5be21fff-289e-4cac-fc3e-5d16f3ae480e"
   },
   "outputs": [
    {
     "name": "stdout",
     "output_type": "stream",
     "text": [
      "Number of rows with empty strings is : 3\n"
     ]
    }
   ],
   "source": [
    "print(f\"Number of rows with empty strings is : {sum(data['MESSAGE'].str.len()==0)}\")"
   ]
  },
  {
   "cell_type": "code",
   "execution_count": 49,
   "metadata": {
    "colab": {
     "base_uri": "https://localhost:8080/",
     "height": 417
    },
    "id": "N5Tpr4ZcLPpu",
    "outputId": "0b744fae-1a7b-4c63-86fd-73dd913bcbcc"
   },
   "outputs": [
    {
     "data": {
      "text/html": [
       "<div>\n",
       "<style scoped>\n",
       "    .dataframe tbody tr th:only-of-type {\n",
       "        vertical-align: middle;\n",
       "    }\n",
       "\n",
       "    .dataframe tbody tr th {\n",
       "        vertical-align: top;\n",
       "    }\n",
       "\n",
       "    .dataframe thead th {\n",
       "        text-align: right;\n",
       "    }\n",
       "</style>\n",
       "<table border=\"1\" class=\"dataframe\">\n",
       "  <thead>\n",
       "    <tr style=\"text-align: right;\">\n",
       "      <th></th>\n",
       "      <th>MESSAGE</th>\n",
       "      <th>CATEGORY</th>\n",
       "    </tr>\n",
       "  </thead>\n",
       "  <tbody>\n",
       "    <tr>\n",
       "      <th>00247.4f7c67c9792706fa90fe218d4b092b7a</th>\n",
       "      <td>MR MARTIN FRANCIS\\n\\nABIDJAN COTE DIVOIRE\\n\\n...</td>\n",
       "      <td>1</td>\n",
       "    </tr>\n",
       "    <tr>\n",
       "      <th>00445.94d3ccfafc541255ff46625091d333e4</th>\n",
       "      <td>Hi -\\n\\n\\n\\n( http://club.4tfox.com )\\n\\n\\n\\nY...</td>\n",
       "      <td>1</td>\n",
       "    </tr>\n",
       "    <tr>\n",
       "      <th>00395.f9df5b3574ef5ba6143c08a1fa301886</th>\n",
       "      <td>&lt;html&gt;\\n\\n\\n\\n&lt;head&gt;\\n\\n&lt;title&gt;Home Page&lt;/titl...</td>\n",
       "      <td>1</td>\n",
       "    </tr>\n",
       "    <tr>\n",
       "      <th>00388.53eae0055e66fcb7194f9cca080fdefe</th>\n",
       "      <td>PROFESSIONAL, EFFECTIVE DEBT COLLECTION SERVIC...</td>\n",
       "      <td>1</td>\n",
       "    </tr>\n",
       "    <tr>\n",
       "      <th>00045.7282c2c4e009744f2f3450d370009235</th>\n",
       "      <td>1) Fight The Risk of Cancer!\\n\\nhttp://www.adc...</td>\n",
       "      <td>1</td>\n",
       "    </tr>\n",
       "    <tr>\n",
       "      <th>...</th>\n",
       "      <td>...</td>\n",
       "      <td>...</td>\n",
       "    </tr>\n",
       "    <tr>\n",
       "      <th>00599.4b9e5d55f5bb001974345a0439e6f93d</th>\n",
       "      <td>-----BEGIN PGP SIGNED MESSAGE-----\\n\\nHash: SH...</td>\n",
       "      <td>0</td>\n",
       "    </tr>\n",
       "    <tr>\n",
       "      <th>00241.1cb3df109857b541b9829f93fb5189d1</th>\n",
       "      <td>Quoting Stephen_Reilly@dell.com (Stephen_Reill...</td>\n",
       "      <td>0</td>\n",
       "    </tr>\n",
       "    <tr>\n",
       "      <th>00918.0881c41b33de2efe11464c2fac2ed760</th>\n",
       "      <td>Nope, a true geek would have a Blackberry so h...</td>\n",
       "      <td>0</td>\n",
       "    </tr>\n",
       "    <tr>\n",
       "      <th>00875.88008b119e71ad96444faf3f66f05bee</th>\n",
       "      <td>On Wed, 2002-07-24 at 16:46, bitbitch@magnesiu...</td>\n",
       "      <td>0</td>\n",
       "    </tr>\n",
       "    <tr>\n",
       "      <th>01165.6ac614b3ccada8b003ad8586c8b88e4e</th>\n",
       "      <td>On Thu, 25 Jul 2002 15:25:05 +0200, Matthias S...</td>\n",
       "      <td>0</td>\n",
       "    </tr>\n",
       "  </tbody>\n",
       "</table>\n",
       "<p>5796 rows × 2 columns</p>\n",
       "</div>"
      ],
      "text/plain": [
       "                                                                                  MESSAGE  CATEGORY\n",
       "00247.4f7c67c9792706fa90fe218d4b092b7a  MR MARTIN FRANCIS\\n\\nABIDJAN COTE DIVOIRE\\n\\n...         1\n",
       "00445.94d3ccfafc541255ff46625091d333e4  Hi -\\n\\n\\n\\n( http://club.4tfox.com )\\n\\n\\n\\nY...         1\n",
       "00395.f9df5b3574ef5ba6143c08a1fa301886  <html>\\n\\n\\n\\n<head>\\n\\n<title>Home Page</titl...         1\n",
       "00388.53eae0055e66fcb7194f9cca080fdefe  PROFESSIONAL, EFFECTIVE DEBT COLLECTION SERVIC...         1\n",
       "00045.7282c2c4e009744f2f3450d370009235  1) Fight The Risk of Cancer!\\n\\nhttp://www.adc...         1\n",
       "...                                                                                   ...       ...\n",
       "00599.4b9e5d55f5bb001974345a0439e6f93d  -----BEGIN PGP SIGNED MESSAGE-----\\n\\nHash: SH...         0\n",
       "00241.1cb3df109857b541b9829f93fb5189d1  Quoting Stephen_Reilly@dell.com (Stephen_Reill...         0\n",
       "00918.0881c41b33de2efe11464c2fac2ed760  Nope, a true geek would have a Blackberry so h...         0\n",
       "00875.88008b119e71ad96444faf3f66f05bee  On Wed, 2002-07-24 at 16:46, bitbitch@magnesiu...         0\n",
       "01165.6ac614b3ccada8b003ad8586c8b88e4e  On Thu, 25 Jul 2002 15:25:05 +0200, Matthias S...         0\n",
       "\n",
       "[5796 rows x 2 columns]"
      ]
     },
     "execution_count": 49,
     "metadata": {
      "tags": []
     },
     "output_type": "execute_result"
    }
   ],
   "source": [
    "data = data[data['MESSAGE'].str.len()!=0]\n",
    "data"
   ]
  },
  {
   "cell_type": "code",
   "execution_count": 50,
   "metadata": {
    "colab": {
     "base_uri": "https://localhost:8080/",
     "height": 610
    },
    "id": "wVLHuTsXLZuD",
    "outputId": "f5a3b67b-da68-48b4-e91f-6e3d66356022"
   },
   "outputs": [
    {
     "name": "stderr",
     "output_type": "stream",
     "text": [
      "/usr/local/lib/python3.7/dist-packages/ipykernel_launcher.py:1: SettingWithCopyWarning: \n",
      "A value is trying to be set on a copy of a slice from a DataFrame.\n",
      "Try using .loc[row_indexer,col_indexer] = value instead\n",
      "\n",
      "See the caveats in the documentation: https://pandas.pydata.org/pandas-docs/stable/user_guide/indexing.html#returning-a-view-versus-a-copy\n",
      "  \"\"\"Entry point for launching an IPython kernel.\n",
      "/usr/local/lib/python3.7/dist-packages/ipykernel_launcher.py:2: SettingWithCopyWarning: \n",
      "A value is trying to be set on a copy of a slice from a DataFrame\n",
      "\n",
      "See the caveats in the documentation: https://pandas.pydata.org/pandas-docs/stable/user_guide/indexing.html#returning-a-view-versus-a-copy\n",
      "  \n"
     ]
    },
    {
     "data": {
      "text/html": [
       "<div>\n",
       "<style scoped>\n",
       "    .dataframe tbody tr th:only-of-type {\n",
       "        vertical-align: middle;\n",
       "    }\n",
       "\n",
       "    .dataframe tbody tr th {\n",
       "        vertical-align: top;\n",
       "    }\n",
       "\n",
       "    .dataframe thead th {\n",
       "        text-align: right;\n",
       "    }\n",
       "</style>\n",
       "<table border=\"1\" class=\"dataframe\">\n",
       "  <thead>\n",
       "    <tr style=\"text-align: right;\">\n",
       "      <th></th>\n",
       "      <th>MESSAGE</th>\n",
       "      <th>CATEGORY</th>\n",
       "      <th>FILE_NAME</th>\n",
       "    </tr>\n",
       "  </thead>\n",
       "  <tbody>\n",
       "    <tr>\n",
       "      <th>0</th>\n",
       "      <td>Date:        Tue, 20 Aug 2002 17:27:47 -05...</td>\n",
       "      <td>0</td>\n",
       "      <td>00001.1a31cc283af0060967a233d26548a6ce</td>\n",
       "    </tr>\n",
       "    <tr>\n",
       "      <th>1</th>\n",
       "      <td>Greetings!\\n\\n\\n\\nYou are receiving this lette...</td>\n",
       "      <td>1</td>\n",
       "      <td>00001.317e78fa8ee2f54cd4890fdc09ba8176</td>\n",
       "    </tr>\n",
       "    <tr>\n",
       "      <th>2</th>\n",
       "      <td>&lt;!DOCTYPE HTML PUBLIC \"-//W3C//DTD HTML 4.0 Tr...</td>\n",
       "      <td>1</td>\n",
       "      <td>00001.7848dde101aa985090474a91ec93fcf0</td>\n",
       "    </tr>\n",
       "    <tr>\n",
       "      <th>3</th>\n",
       "      <td>Date:        Wed, 21 Aug 2002 10:54:46 -05...</td>\n",
       "      <td>0</td>\n",
       "      <td>00001.7c53336b37003a9286aba55d2945844c</td>\n",
       "    </tr>\n",
       "    <tr>\n",
       "      <th>4</th>\n",
       "      <td>--==_Exmh_-199405358P\\n\\nContent-Type: text/pl...</td>\n",
       "      <td>0</td>\n",
       "      <td>00002.5a587ae61666c5aa097c8e866aedcc59</td>\n",
       "    </tr>\n",
       "    <tr>\n",
       "      <th>...</th>\n",
       "      <td>...</td>\n",
       "      <td>...</td>\n",
       "      <td>...</td>\n",
       "    </tr>\n",
       "    <tr>\n",
       "      <th>5791</th>\n",
       "      <td>Man killed 'trying to surf' on Tube train \\n\\n...</td>\n",
       "      <td>0</td>\n",
       "      <td>02496.aae0c81581895acfe65323f344340856</td>\n",
       "    </tr>\n",
       "    <tr>\n",
       "      <th>5792</th>\n",
       "      <td>Hi Gianni,\\n\\n\\n\\nA very good resource for thi...</td>\n",
       "      <td>0</td>\n",
       "      <td>02497.60497db0a06c2132ec2374b2898084d3</td>\n",
       "    </tr>\n",
       "    <tr>\n",
       "      <th>5793</th>\n",
       "      <td>Gianni Ponzi wrote:\\n\\n&gt; I have a prob when tr...</td>\n",
       "      <td>0</td>\n",
       "      <td>02498.09835f512f156da210efb99fcc523e21</td>\n",
       "    </tr>\n",
       "    <tr>\n",
       "      <th>5794</th>\n",
       "      <td>Neale Pickett &lt;neale@woozle.org&gt; writes:\\n\\n\\n...</td>\n",
       "      <td>0</td>\n",
       "      <td>02499.b4af165650f138b10f9941f6cc5bce3c</td>\n",
       "    </tr>\n",
       "    <tr>\n",
       "      <th>5795</th>\n",
       "      <td>\\n\\nHi,\\n\\n\\n\\nI think you need to give us a l...</td>\n",
       "      <td>0</td>\n",
       "      <td>02500.05b3496ce7bca306bed0805425ec8621</td>\n",
       "    </tr>\n",
       "  </tbody>\n",
       "</table>\n",
       "<p>5796 rows × 3 columns</p>\n",
       "</div>"
      ],
      "text/plain": [
       "                                                MESSAGE  ...                               FILE_NAME\n",
       "0         Date:        Tue, 20 Aug 2002 17:27:47 -05...  ...  00001.1a31cc283af0060967a233d26548a6ce\n",
       "1     Greetings!\\n\\n\\n\\nYou are receiving this lette...  ...  00001.317e78fa8ee2f54cd4890fdc09ba8176\n",
       "2     <!DOCTYPE HTML PUBLIC \"-//W3C//DTD HTML 4.0 Tr...  ...  00001.7848dde101aa985090474a91ec93fcf0\n",
       "3         Date:        Wed, 21 Aug 2002 10:54:46 -05...  ...  00001.7c53336b37003a9286aba55d2945844c\n",
       "4     --==_Exmh_-199405358P\\n\\nContent-Type: text/pl...  ...  00002.5a587ae61666c5aa097c8e866aedcc59\n",
       "...                                                 ...  ...                                     ...\n",
       "5791  Man killed 'trying to surf' on Tube train \\n\\n...  ...  02496.aae0c81581895acfe65323f344340856\n",
       "5792  Hi Gianni,\\n\\n\\n\\nA very good resource for thi...  ...  02497.60497db0a06c2132ec2374b2898084d3\n",
       "5793  Gianni Ponzi wrote:\\n\\n> I have a prob when tr...  ...  02498.09835f512f156da210efb99fcc523e21\n",
       "5794  Neale Pickett <neale@woozle.org> writes:\\n\\n\\n...  ...  02499.b4af165650f138b10f9941f6cc5bce3c\n",
       "5795  \\n\\nHi,\\n\\n\\n\\nI think you need to give us a l...  ...  02500.05b3496ce7bca306bed0805425ec8621\n",
       "\n",
       "[5796 rows x 3 columns]"
      ]
     },
     "execution_count": 50,
     "metadata": {
      "tags": []
     },
     "output_type": "execute_result"
    }
   ],
   "source": [
    "data['FILE_NAME'] = data.index\n",
    "data.sort_index(inplace=True)\n",
    "data.reset_index(drop = True, inplace=True)\n",
    "data"
   ]
  },
  {
   "cell_type": "code",
   "execution_count": 3,
   "metadata": {},
   "outputs": [
    {
     "data": {
      "image/png": "[encoded data removed]",
      "text/plain": [
       "<Figure size 454x454 with 1 Axes>"
      ]
     },
     "metadata": {},
     "output_type": "display_data"
    }
   ],
   "source": [
    "category_names = ['Spam', 'Non Spam']\n",
    "sizes = [data['CATEGORY'].value_counts()[1], data['CATEGORY'].value_counts()[0]]\n",
    "plt.figure(figsize=(2,2),dpi = 227) \n",
    "plt.pie(sizes, labels = category_names, textprops = {'fontsize':8},startangle=90,\n",
    "       autopct='%1.0f%%', explode = [0,0.1]) \n",
    "plt.show()"
   ]
  },
  {
   "cell_type": "code",
   "execution_count": 15,
   "metadata": {
    "id": "o4k3VHIzSi_Z"
   },
   "outputs": [],
   "source": [
    "def clean_msg_no_html(message, stemmer=PorterStemmer(), stop_words = set(stopwords.words('english'))):\n",
    "    \n",
    "    #Removing html tags\n",
    "    soup=BeautifulSoup(message,'html.parser')\n",
    "    cleaned_text= soup.get_text()\n",
    "\n",
    "    #converts to lowercase and splits up the words\n",
    "    words = word_tokenize(cleaned_text.lower())\n",
    "    filtered_words=[]\n",
    "    \n",
    "    for word in words:\n",
    "        #Removes stopwords and punctuation\n",
    "        if word not in stop_words and word.isalpha():\n",
    "          filtered_words.append(stemmer.stem(word))\n",
    "            \n",
    "    return \" \".join(filtered_words)      "
   ]
  },
  {
   "cell_type": "code",
   "execution_count": 16,
   "metadata": {
    "colab": {
     "base_uri": "https://localhost:8080/"
    },
    "id": "dzDc77EJSyxr",
    "outputId": "999794a5-a460-4742-86ed-76f7ba8ecc2c"
   },
   "outputs": [
    {
     "name": "stderr",
     "output_type": "stream",
     "text": [
      "/usr/local/lib/python3.7/dist-packages/bs4/__init__.py:336: UserWarning: \"http://www.post-gazette.com/columnists/20020905brian5\n",
      "\" looks like a URL. Beautiful Soup is not an HTTP client. You should probably use an HTTP client like requests to get the document behind the URL, and feed that document to Beautiful Soup.\n",
      "  ' that document to Beautiful Soup.' % decoded_markup\n",
      "/usr/local/lib/python3.7/dist-packages/ipykernel_launcher.py:1: SettingWithCopyWarning: \n",
      "A value is trying to be set on a copy of a slice from a DataFrame.\n",
      "Try using .loc[row_indexer,col_indexer] = value instead\n",
      "\n",
      "See the caveats in the documentation: https://pandas.pydata.org/pandas-docs/stable/user_guide/indexing.html#returning-a-view-versus-a-copy\n",
      "  \"\"\"Entry point for launching an IPython kernel.\n"
     ]
    }
   ],
   "source": [
    "data['clean_text'] = data.apply(lambda x: clean_msg_no_html(x['MESSAGE']), axis =1)"
   ]
  },
  {
   "cell_type": "code",
   "execution_count": 17,
   "metadata": {
    "colab": {
     "base_uri": "https://localhost:8080/",
     "height": 505
    },
    "id": "GqRdwyIwTtZI",
    "outputId": "8cf81d78-dc86-4b15-b311-499138227d69"
   },
   "outputs": [
    {
     "name": "stderr",
     "output_type": "stream",
     "text": [
      "/usr/local/lib/python3.7/dist-packages/pandas/core/frame.py:4174: SettingWithCopyWarning: \n",
      "A value is trying to be set on a copy of a slice from a DataFrame\n",
      "\n",
      "See the caveats in the documentation: https://pandas.pydata.org/pandas-docs/stable/user_guide/indexing.html#returning-a-view-versus-a-copy\n",
      "  errors=errors,\n"
     ]
    },
    {
     "data": {
      "text/html": [
       "<div>\n",
       "<style scoped>\n",
       "    .dataframe tbody tr th:only-of-type {\n",
       "        vertical-align: middle;\n",
       "    }\n",
       "\n",
       "    .dataframe tbody tr th {\n",
       "        vertical-align: top;\n",
       "    }\n",
       "\n",
       "    .dataframe thead th {\n",
       "        text-align: right;\n",
       "    }\n",
       "</style>\n",
       "<table border=\"1\" class=\"dataframe\">\n",
       "  <thead>\n",
       "    <tr style=\"text-align: right;\">\n",
       "      <th></th>\n",
       "      <th>CATEGORY</th>\n",
       "      <th>FILE_NAME</th>\n",
       "      <th>clean_text</th>\n",
       "    </tr>\n",
       "  </thead>\n",
       "  <tbody>\n",
       "    <tr>\n",
       "      <th>0</th>\n",
       "      <td>0</td>\n",
       "      <td>0</td>\n",
       "      <td>date tue aug chri garrigu hope peopl addit seq...</td>\n",
       "    </tr>\n",
       "    <tr>\n",
       "      <th>1</th>\n",
       "      <td>1</td>\n",
       "      <td>1</td>\n",
       "      <td>greet receiv letter express interest receiv in...</td>\n",
       "    </tr>\n",
       "    <tr>\n",
       "      <th>2</th>\n",
       "      <td>1</td>\n",
       "      <td>2</td>\n",
       "      <td>save life insur spend life quot save g famili ...</td>\n",
       "    </tr>\n",
       "    <tr>\n",
       "      <th>3</th>\n",
       "      <td>0</td>\n",
       "      <td>3</td>\n",
       "      <td>date wed aug chri garrigu ca reproduc error re...</td>\n",
       "    </tr>\n",
       "    <tr>\n",
       "      <th>4</th>\n",
       "      <td>0</td>\n",
       "      <td>4</td>\n",
       "      <td>date wed aug tue aug edt said ever tri get mh ...</td>\n",
       "    </tr>\n",
       "    <tr>\n",
       "      <th>...</th>\n",
       "      <td>...</td>\n",
       "      <td>...</td>\n",
       "      <td>...</td>\n",
       "    </tr>\n",
       "    <tr>\n",
       "      <th>5791</th>\n",
       "      <td>0</td>\n",
       "      <td>5791</td>\n",
       "      <td>man kill surf tube train ananova wednesday dec...</td>\n",
       "    </tr>\n",
       "    <tr>\n",
       "      <th>5792</th>\n",
       "      <td>0</td>\n",
       "      <td>5792</td>\n",
       "      <td>hi gianni good resourc http http walk guid umb...</td>\n",
       "    </tr>\n",
       "    <tr>\n",
       "      <th>5793</th>\n",
       "      <td>0</td>\n",
       "      <td>5793</td>\n",
       "      <td>gianni ponzi wrote prob tri instal linux tri r...</td>\n",
       "    </tr>\n",
       "    <tr>\n",
       "      <th>5794</th>\n",
       "      <td>0</td>\n",
       "      <td>5794</td>\n",
       "      <td>neal pickett write skip montanaro write ye als...</td>\n",
       "    </tr>\n",
       "    <tr>\n",
       "      <th>5795</th>\n",
       "      <td>0</td>\n",
       "      <td>5795</td>\n",
       "      <td>hi think need give us littl detail inform wed ...</td>\n",
       "    </tr>\n",
       "  </tbody>\n",
       "</table>\n",
       "<p>5796 rows × 3 columns</p>\n",
       "</div>"
      ],
      "text/plain": [
       "      CATEGORY  FILE_NAME                                         clean_text\n",
       "0            0          0  date tue aug chri garrigu hope peopl addit seq...\n",
       "1            1          1  greet receiv letter express interest receiv in...\n",
       "2            1          2  save life insur spend life quot save g famili ...\n",
       "3            0          3  date wed aug chri garrigu ca reproduc error re...\n",
       "4            0          4  date wed aug tue aug edt said ever tri get mh ...\n",
       "...        ...        ...                                                ...\n",
       "5791         0       5791  man kill surf tube train ananova wednesday dec...\n",
       "5792         0       5792  hi gianni good resourc http http walk guid umb...\n",
       "5793         0       5793  gianni ponzi wrote prob tri instal linux tri r...\n",
       "5794         0       5794  neal pickett write skip montanaro write ye als...\n",
       "5795         0       5795  hi think need give us littl detail inform wed ...\n",
       "\n",
       "[5796 rows x 3 columns]"
      ]
     },
     "execution_count": 17,
     "metadata": {
      "tags": []
     },
     "output_type": "execute_result"
    }
   ],
   "source": [
    "data.drop(columns= ['MESSAGE'], axis = 1, inplace = True)\n",
    "data"
   ]
  },
  {
   "cell_type": "markdown",
   "metadata": {
    "id": "gkguYwx4_21S"
   },
   "source": [
    "# Creating Vectors(Bag of Words Approach)"
   ]
  },
  {
   "cell_type": "code",
   "execution_count": 18,
   "metadata": {
    "id": "jSyXg0meGXfP"
   },
   "outputs": [],
   "source": [
    "vectorizer = CountVectorizer(stop_words='english')\n",
    "all_features = vectorizer.fit_transform(data.clean_text)"
   ]
  },
  {
   "cell_type": "markdown",
   "metadata": {
    "id": "1_uH-uEuAPff"
   },
   "source": [
    "# Splitting to test and train sets"
   ]
  },
  {
   "cell_type": "code",
   "execution_count": 24,
   "metadata": {
    "id": "AHfqYs5RGXfR"
   },
   "outputs": [],
   "source": [
    "X_train ,X_test, y_train, y_test = train_test_split(all_features, data.CATEGORY, test_size =0.3 , random_state = 1)"
   ]
  },
  {
   "cell_type": "code",
   "execution_count": 25,
   "metadata": {
    "colab": {
     "base_uri": "https://localhost:8080/"
    },
    "id": "lvLnkPcCGXfR",
    "outputId": "8ed1addf-70bf-4d4c-c7fe-43c14fb1a96f"
   },
   "outputs": [
    {
     "data": {
      "text/plain": [
       "(4057, 27101)"
      ]
     },
     "execution_count": 25,
     "metadata": {
      "tags": []
     },
     "output_type": "execute_result"
    }
   ],
   "source": [
    "X_train.shape"
   ]
  },
  {
   "cell_type": "code",
   "execution_count": 26,
   "metadata": {
    "colab": {
     "base_uri": "https://localhost:8080/"
    },
    "id": "M22u2m7tGXfS",
    "outputId": "b09399fa-be21-47c8-cde1-8560137b5585"
   },
   "outputs": [
    {
     "data": {
      "text/plain": [
       "(1739, 27101)"
      ]
     },
     "execution_count": 26,
     "metadata": {
      "tags": []
     },
     "output_type": "execute_result"
    }
   ],
   "source": [
    "X_test.shape"
   ]
  },
  {
   "cell_type": "markdown",
   "metadata": {
    "id": "glCfVRsWA-U2"
   },
   "source": [
    "# Pipeline"
   ]
  },
  {
   "cell_type": "code",
   "execution_count": 27,
   "metadata": {
    "colab": {
     "base_uri": "https://localhost:8080/"
    },
    "id": "X9hL3vejdKx_",
    "outputId": "984e4b6c-e611-412c-da0f-d7e5d48fa65d"
   },
   "outputs": [
    {
     "name": "stdout",
     "output_type": "stream",
     "text": [
      "Best Score:  0.9775688956649031\n",
      "Best Params:  {'mnb__alpha': 0.3, 'mnb__fit_prior': False}\n"
     ]
    }
   ],
   "source": [
    "mnb_pipeline = Pipeline([\n",
    "    ('mnb', MultinomialNB())\n",
    "])\n",
    "grid_params = {\n",
    "  'mnb__alpha': np.linspace(0.1, 2.0, 20),\n",
    "  'mnb__fit_prior': [True, False],  \n",
    "}\n",
    "clf = GridSearchCV(mnb_pipeline, grid_params)\n",
    "clf.fit(X_train, y_train)\n",
    "print(\"Best Score: \", clf.best_score_)\n",
    "print(\"Best Params: \", clf.best_params_)"
   ]
  },
  {
   "cell_type": "code",
   "execution_count": 28,
   "metadata": {
    "colab": {
     "base_uri": "https://localhost:8080/"
    },
    "id": "qCBDL5fHGXfS",
    "outputId": "2d4fe73e-0ff1-4566-a8aa-7d686b9af3b8"
   },
   "outputs": [
    {
     "data": {
      "text/plain": [
       "MultinomialNB(alpha=0.3, class_prior=None, fit_prior=False)"
      ]
     },
     "execution_count": 28,
     "metadata": {
      "tags": []
     },
     "output_type": "execute_result"
    }
   ],
   "source": [
    "classifier = MultinomialNB(alpha = 0.3, fit_prior = False)\n",
    "classifier.fit(X_train , y_train)"
   ]
  },
  {
   "cell_type": "markdown",
   "metadata": {
    "id": "b7vup8bgB2ow"
   },
   "source": [
    "# Evaluation metrics"
   ]
  },
  {
   "cell_type": "code",
   "execution_count": 34,
   "metadata": {
    "colab": {
     "base_uri": "https://localhost:8080/"
    },
    "id": "k1v6UlP-GXfU",
    "outputId": "fd51f2ef-5c4c-4643-9d5e-f2bcaf0e0369"
   },
   "outputs": [
    {
     "name": "stdout",
     "output_type": "stream",
     "text": [
      "Training accuracy of model is: 98.669%\n",
      "Testing accuracy of model is: 97.987%\n"
     ]
    }
   ],
   "source": [
    "print(f'Training accuracy of model is: {classifier.score(X_train, y_train):.3%}')\n",
    "print(f'Testing accuracy of model is: {classifier.score(X_test, y_test):.3%}')"
   ]
  },
  {
   "cell_type": "code",
   "execution_count": 36,
   "metadata": {
    "colab": {
     "base_uri": "https://localhost:8080/"
    },
    "id": "IqqVftURekNN",
    "outputId": "e95eba59-cf20-4184-e7ff-a97fac00d111"
   },
   "outputs": [
    {
     "name": "stdout",
     "output_type": "stream",
     "text": [
      "Precision is: 98.208%\n",
      "Recall score is: 95.637%\n",
      "F1-score is: 96.905%\n"
     ]
    }
   ],
   "source": [
    "print(f\"Precision is: {precision_score(y_test, classifier.predict(X_test)):.3%}\")\n",
    "print(f\"Recall score is: {recall_score(y_test, classifier.predict(X_test)):.3%}\")\n",
    "print(f\"F1-score is: {f1_score(y_test, classifier.predict(X_test)):.3%}\")"
   ]
  }
 ],
 "metadata": {
  "accelerator": "GPU",
  "colab": {
   "collapsed_sections": [],
   "name": "main.ipynb",
   "provenance": []
  },
  "kernelspec": {
   "display_name": "Python 3",
   "language": "python",
   "name": "python3"
  },
  "language_info": {
   "codemirror_mode": {
    "name": "ipython",
    "version": 3
   },
   "file_extension": ".py",
   "mimetype": "text/x-python",
   "name": "python",
   "nbconvert_exporter": "python",
   "pygments_lexer": "ipython3",
   "version": "3.7.4"
  }
 },
 "nbformat": 4,
 "nbformat_minor": 1
}
